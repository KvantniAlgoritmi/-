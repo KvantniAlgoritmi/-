{
 "cells": [
  {
   "cell_type": "markdown",
   "metadata": {},
   "source": [
    "* Поглабље 01\n",
    "* Лекција 3.1\n",
    "\n",
    "# Диракова Бра-Кет Нотација\n",
    "\n",
    "<br>\n",
    "\n",
    "* [Диракова нотација (Википедија)](https://sr.wikipedia.org/wiki/%D0%94%D0%B8%D1%80%D0%B0%D0%BA%D0%BE%D0%B2%D0%B0_%D0%BD%D0%BE%D1%82%D0%B0%D1%86%D0%B8%D1%98%D0%B0)\n",
    "* [Векторски простори и елементи векторске анализе, Иванка Милошевић, 1997 (ПДФ)](http://bmw.ff.bg.ac.rs/Katedre/QMF/pdf/i1-6.pdf)\n",
    "* [Linear algebra for quantum mechanics](https://furnstahl.github.io/7501-JB/notebooks/Reference/linear_algebra_for_QM.html)\n",
    "* [amcdawes/QMlabs](https://github.com/amcdawes/QMlabs)\n",
    "* [Welcome to Chemistry Lessons Using Jupyter Notebooks](https://mccullaghlab.github.io/intro.html)\n",
    "* [Solving 1-D Schrodinger Equation in Python](https://blog.gwlab.page/solving-1-d-schrodinger-equation-in-python-dcb3518ce454)"
   ]
  },
  {
   "cell_type": "markdown",
   "metadata": {},
   "source": [
    "Диракова Бра-Кет нотација је стандардни математички оквир који је први дефинисао енглески физичар Пол Дирак као краћи начин записивања квантних стања и њихових трансформација. "
   ]
  },
  {
   "cell_type": "markdown",
   "metadata": {},
   "source": [
    "На почетку, погледајмо кратак пример на основу кога лако можемо да видимо за шта је Диракова нотација корисна. Замислимо таласну функцију $\\psi$ која описује квантно стање једне честице. Средња вредност координате $\\vec{r}$ (очекивана вредност оператора положаја) те честице може бити записана у следећем облику:\n",
    "\n",
    "\\begin{equation}\n",
    "\\braket{\\hat{r}} = \\int_{-\\infin}^{\\infin} \\psi^{*} r \\psi dr\n",
    "\\end{equation}\n",
    "\n",
    "Чак и овако једноставан пример је компликован за записивање. Овде Диракова бра-кет нотација може бити корисна. Исти израз се може записати на једноставнији и елегантнији начин помоћу бра-кет нотације:\n",
    "\n",
    "\\begin{align*}\n",
    "\\braket{\\hat{r}} = \\bra{\\psi} r \\ket{\\psi}\n",
    "\\end{align*}\n"
   ]
  },
  {
   "cell_type": "markdown",
   "metadata": {},
   "source": [
    "Основни чиниоци бра-кет нотације су **кет** и **бра** оператори:\n",
    "\n",
    "* Оператор **кет** представља квантно стање $\\ket{\\psi}$. То је вектор колоне у комплексном векторском простору (Хилбертов простор).\n",
    "\n",
    "    \\begin{align*}\n",
    "    \\ket{\\psi} =\n",
    "    \\begin{bmatrix}\n",
    "    \\psi_1 \\\\\n",
    "    \\psi_2 \\\\\n",
    "    \\vdots \\\\\n",
    "    \\psi_n\n",
    "    \\end{bmatrix}\n",
    "    \\end{align*}\n",
    "    \n",
    "    где су $\\psi_1$, $\\psi_2$ ...$\\psi_n$ компоненте вектора колоне.\n",
    "\n",
    "* Оператор **бра** $\\bra{\\psi}$ је Ермитски коњугат (транспоновање и коњуговање комплексног броја) оператора **кет**:\n",
    "\n",
    "    \\begin{align*}\n",
    "    \\bra{\\psi} =\n",
    "    \\begin{bmatrix}\n",
    "    \\psi_1^* & \\psi_2^* & \\cdots & \\psi_n^*\n",
    "    \\end{bmatrix}\n",
    "    \\end{align*}\n",
    "\n",
    "    где су $\\psi_1$, $\\psi_2$ ...$\\psi_n$ компоненте вектора врсте."
   ]
  },
  {
   "cell_type": "markdown",
   "metadata": {},
   "source": [
    "Кратак пример у Пајтону"
   ]
  },
  {
   "cell_type": "code",
   "execution_count": 1,
   "metadata": {},
   "outputs": [],
   "source": [
    "import numpy as np"
   ]
  },
  {
   "cell_type": "code",
   "execution_count": 3,
   "metadata": {},
   "outputs": [
    {
     "name": "stdout",
     "output_type": "stream",
     "text": [
      "Кет |ψ⟩:\n",
      "\n",
      "[[1.+2.j]\n",
      " [3.+4.j]]\n"
     ]
    }
   ],
   "source": [
    "# Кет |ψ⟩\n",
    "кет_пси = np.array([[1 + 2j], [3 + 4j]])\n",
    "\n",
    "print(\"Кет |ψ⟩:\\n\")\n",
    "print(кет_пси)\n"
   ]
  },
  {
   "cell_type": "code",
   "execution_count": 4,
   "metadata": {},
   "outputs": [
    {
     "name": "stdout",
     "output_type": "stream",
     "text": [
      "Бра ⟨ψ|:\n",
      "\n",
      "[[1.-2.j 3.-4.j]]\n"
     ]
    }
   ],
   "source": [
    "# Бра ⟨ψ|\n",
    "бра_пси = кет_пси.conj().T  # коњуговање и транспоновање |ψ⟩\n",
    "\n",
    "print(\"Бра ⟨ψ|:\\n\")\n",
    "print(бра_пси)"
   ]
  },
  {
   "cell_type": "code",
   "execution_count": 5,
   "metadata": {},
   "outputs": [
    {
     "name": "stdout",
     "output_type": "stream",
     "text": [
      "Кет |ψ>:\n",
      "\n",
      "[[1.+2.j]\n",
      " [3.+4.j]]\n"
     ]
    }
   ],
   "source": [
    "# Кет |ψ⟩\n",
    "кет_пси2 = бра_пси.conj().T  # коњуговање и транспоновање ⟨ψ|\n",
    "\n",
    "print(\"Кет |ψ>:\\n\")\n",
    "print(кет_пси2)"
   ]
  },
  {
   "cell_type": "markdown",
   "metadata": {},
   "source": [
    "Из претходног примера се види да **бра** оператори настају коњуговањем и транспоновањем **кет** оператора и обрнуто. То су зове адјунговање. У квантној механици адјунговање се означава сумболом $\\dagger$.\n",
    "\n",
    "\\begin{align*}\n",
    "  \\bra{\\psi} &= \\ket{\\psi}^{\\dagger} \\\\\n",
    "  \\ket{\\psi} &= \\bra{\\psi}^{\\dagger}\n",
    "\\end{align*}"
   ]
  },
  {
   "cell_type": "markdown",
   "metadata": {},
   "source": [
    "## Унутрашњи (скаларни) производ"
   ]
  },
  {
   "cell_type": "markdown",
   "metadata": {},
   "source": [
    "Унутрашњи (скаларни) производ два оператора представља амплитуду преклапања или амплитуду вероватноће између два квантна стања, $\\ket{\\psi}$ и $\\ket{\\phi}$. \n",
    "\n",
    "* У математици, ово је најједноставнији скаларни производ:\n",
    "\n",
    "    \\begin{equation}\n",
    "    \\bra{\\phi} \\ket{\\psi} = \\braket{\\phi|\\psi} = \\sum_{i} \\phi_{i}^{*} \\psi_{i}\n",
    "    \\end{equation}\n",
    "\n",
    "* У квантној механици, квадрат скаларног производа (Борново правило) $\\left\\lvert \\braket{\\phi|\\psi} \\right\\rvert^{2}$ представља вероватноћу мерења $\\psi$ у стању $\\phi$."
   ]
  },
  {
   "cell_type": "code",
   "execution_count": 6,
   "metadata": {},
   "outputs": [
    {
     "name": "stdout",
     "output_type": "stream",
     "text": [
      "Унутрашњи производ ⟨ψ|ψ⟩: [[30.+0.j]]\n"
     ]
    }
   ],
   "source": [
    "унутрашњи_производ = np.dot(бра_пси, кет_пси)\n",
    "\n",
    "print(\"Унутрашњи производ ⟨ψ|ψ⟩:\", унутрашњи_производ)"
   ]
  },
  {
   "cell_type": "code",
   "execution_count": 7,
   "metadata": {},
   "outputs": [
    {
     "name": "stdout",
     "output_type": "stream",
     "text": [
      "Квадратни унутрашњи производ |⟨ψ|φ⟩|^2: [[900.]]\n"
     ]
    }
   ],
   "source": [
    "квадратни_унутрашњи_производ = np.abs(унутрашњи_производ)**2  # квадрат магнитуде\n",
    "\n",
    "print(\"Квадратни унутрашњи производ |⟨ψ|φ⟩|^2:\", квадратни_унутрашњи_производ)"
   ]
  },
  {
   "cell_type": "markdown",
   "metadata": {},
   "source": [
    "#### Мали пример да видимо шта ово представља у класичном свету"
   ]
  },
  {
   "cell_type": "code",
   "execution_count": 8,
   "metadata": {},
   "outputs": [
    {
     "name": "stdout",
     "output_type": "stream",
     "text": [
      "Унутрашњи производ            ⟨ψ|φ⟩:     [[0.96+0.j]]\n",
      "Квадрат унутрашњег производа |⟨ψ|φ⟩|^2:  [[0.9216]]\n"
     ]
    }
   ],
   "source": [
    "# Мерење поклапања између филмова и жеља гледаоца\n",
    "\n",
    "# Вектор жеља гледаоца (стање |ψ⟩)\n",
    "кет_пси_г = np.array([[0.8 + 0.0j], [0.6 + 0.0j]])  # Гледаоц радо гледа акцију 80% и комедију 60% (ово у ствари нису проценти, већ амплитуде вектора који одговарају акцији и комедији)\n",
    "\n",
    "# Вектор профила филма (стање |φ⟩)\n",
    "кет_фи_ф = np.array([[0.9 + 0.0j], [0.4 + 0.0j]])  # Филм чини 90% акција и 40% комедија (ово у ствари нису проценти, већ амплитуде вектора који одговарају акцији и комедији)\n",
    "\n",
    "# адјунговање (коњуговање и транспоновање) бра оператора ⟨ψ|\n",
    "бра_пси_г = кет_пси_г.conj().T\n",
    "\n",
    "# Унутрашњи (скаларни) производ\n",
    "унутрашњи_производ_ф = np.dot(бра_пси_г, кет_фи_ф)\n",
    "\n",
    "# Квадрат унутрашњег производа (вероватноћа)\n",
    "квадратни_унутрашњи_производ_ф = np.abs(унутрашњи_производ_ф)**2\n",
    "\n",
    "# Резултат\n",
    "print(\"Унутрашњи производ            ⟨ψ|φ⟩:    \", унутрашњи_производ_ф)\n",
    "print(\"Квадрат унутрашњег производа |⟨ψ|φ⟩|^2: \", квадратни_унутрашњи_производ_ф)\n"
   ]
  },
  {
   "cell_type": "markdown",
   "metadata": {},
   "source": [
    "Са сигурношћу од 92% можемо тврдити да ће гледаоцу да се свиди овај филм."
   ]
  },
  {
   "cell_type": "code",
   "execution_count": 9,
   "metadata": {},
   "outputs": [
    {
     "name": "stdout",
     "output_type": "stream",
     "text": [
      "[[1.]]\n",
      "[[0.9409]]\n"
     ]
    }
   ],
   "source": [
    "# Доказ да проценти из претходног примера имају смисао\n",
    "\n",
    "print(np.abs(np.dot(кет_пси_г.conj().T, кет_пси_г))**2)\n",
    "print(np.abs(np.dot(кет_фи_ф.conj().T, кет_фи_ф))**2)"
   ]
  },
  {
   "cell_type": "markdown",
   "metadata": {},
   "source": [
    "Пошто је унутрашњи производ жељеног профила филма једнак тачно 1, гледалац воли искључиво акцију и комедију. С друге стране, филм чини $94\\%$ акција и комедија, што значи да филм такође може садржати драму, трилер или научну фантастику."
   ]
  },
  {
   "cell_type": "markdown",
   "metadata": {},
   "source": [
    "### Нормализација"
   ]
  },
  {
   "cell_type": "markdown",
   "metadata": {},
   "source": [
    "Ако је квадрат унутрашњег производа (вероватноћа) вектора квантног стања $\\ket{\\psi}$ са самим собом једнак тачно 1:\n",
    "\n",
    "\\begin{equation}\n",
    "\\left\\lvert \\braket{\\psi|\\psi} \\right\\rvert^{2} = \\left\\lvert \\sum_{i} \\psi_{i}^{*} \\psi_{i} \\right\\rvert^{2} = 1\n",
    "\\end{equation}\n",
    "\n",
    "то значи да је квантно стање нормализовано."
   ]
  },
  {
   "cell_type": "code",
   "execution_count": 10,
   "metadata": {},
   "outputs": [
    {
     "name": "stdout",
     "output_type": "stream",
     "text": [
      "Кет |ψ⟩:\n",
      "\n",
      "[[1.+2.j]\n",
      " [3.+4.j]]\n"
     ]
    }
   ],
   "source": [
    "print(\"Кет |ψ⟩:\\n\")\n",
    "print(кет_пси)"
   ]
  },
  {
   "cell_type": "code",
   "execution_count": 11,
   "metadata": {},
   "outputs": [
    {
     "name": "stdout",
     "output_type": "stream",
     "text": [
      "Квадрат унутрашњег производа:  [[900.]]\n"
     ]
    }
   ],
   "source": [
    "print(\"Квадрат унутрашњег производа: \", np.abs(np.dot(кет_пси.conj().T, кет_пси))**2)"
   ]
  },
  {
   "cell_type": "markdown",
   "metadata": {},
   "source": [
    "Ово значи да квантно стање није нормализовано. Квантно стање може бити нормализовано дељењем са нормом оператора $\\ket{\\psi}$:\n",
    "\n",
    "\\begin{equation}\n",
    "\\ket{\\psi_{нормализовано}}  = \\frac{\\ket{\\psi}}{\\|\\psi\\|}\n",
    "\\end{equation}\n",
    "\n",
    "где је:\n",
    "\n",
    "\\begin{equation}\n",
    "\\|\\psi\\|  = \\sqrt{\\braket{\\psi|\\psi}}\n",
    "\\end{equation}"
   ]
  },
  {
   "cell_type": "code",
   "execution_count": 12,
   "metadata": {},
   "outputs": [
    {
     "data": {
      "text/plain": [
       "array([[0.18257419+0.36514837j],\n",
       "       [0.54772256+0.73029674j]])"
      ]
     },
     "execution_count": 12,
     "metadata": {},
     "output_type": "execute_result"
    }
   ],
   "source": [
    "кет_пси_нормализовано = кет_пси/np.linalg.norm(кет_пси)\n",
    "\n",
    "кет_пси_нормализовано"
   ]
  },
  {
   "cell_type": "code",
   "execution_count": 13,
   "metadata": {},
   "outputs": [
    {
     "data": {
      "text/plain": [
       "array([[1.]])"
      ]
     },
     "execution_count": 13,
     "metadata": {},
     "output_type": "execute_result"
    }
   ],
   "source": [
    "np.abs(np.dot(кет_пси_нормализовано.conj().T, кет_пси_нормализовано))**2"
   ]
  },
  {
   "cell_type": "markdown",
   "metadata": {},
   "source": [
    "Квантно стање је сада нормализовано."
   ]
  },
  {
   "cell_type": "markdown",
   "metadata": {},
   "source": [
    "### Ортогоналност"
   ]
  },
  {
   "cell_type": "markdown",
   "metadata": {},
   "source": [
    "Два стања су ортогонална кад су њихови вектори стања (кетови) нормални један у односу на други у комплексном векторском простору. То значи да њихови унутрашњи производи морају бити једнаки нули:\n",
    "\n",
    "\\begin{equation}\n",
    "\\braket{\\phi|\\psi} = \\sum_{i} \\phi_{i}^{*} \\psi_{i} = 0\n",
    "\\end{equation}\n",
    "\n",
    "У интегралном облику:\n",
    "\n",
    "\\begin{equation}\n",
    "\\braket{\\phi|\\psi} =  \\int_{-\\infin}^{\\infin} \\phi^{*}(r) \\psi(r) dr = 0\n",
    "\\end{equation}\n",
    "\n",
    "Ортогонална стања $\\ket{\\phi}$ и $\\ket{\\psi}$ су међусобно искључива. У квантној механици то значи да ако је квантни систем у стању $\\ket{\\psi}$, вероватноћа да измеримо исти систем у стању $\\ket{\\phi}$ је једнак 0. Укратко, ова два стања су независна и разлучива."
   ]
  },
  {
   "cell_type": "code",
   "execution_count": 14,
   "metadata": {},
   "outputs": [
    {
     "name": "stdout",
     "output_type": "stream",
     "text": [
      "⟨0|1⟩ = [[0]]\n"
     ]
    }
   ],
   "source": [
    "# Базис\n",
    "кет_0 = np.array([[1], [0]])  # |0⟩\n",
    "кет_1 = np.array([[0], [1]])  # |1⟩\n",
    "\n",
    "# Унутрашњи производ ⟨0|1⟩\n",
    "унутрашњи_производ = np.dot(кет_0.conj().T, кет_1)\n",
    "\n",
    "# Резултат\n",
    "print(\"⟨0|1⟩ =\", унутрашњи_производ)"
   ]
  },
  {
   "cell_type": "markdown",
   "metadata": {},
   "source": [
    "То значи да су ортогонални:\n",
    "\n",
    "\\begin{equation}\n",
    "\\braket{0|1} = 0\n",
    "\\end{equation}\n",
    "\n",
    "У стварности, то значи да су независна и разлучива. Ако је кубит у стању $\\ket{0}$, вероватноћа да исти кубит измеримо у стању $\\ket{1}$ једнак је 0, и обрнуто..\n",
    "\n",
    "Као последица ових својстава, ова два стања образују базис за већину квантних алгоритама, због чега је ово основа за разумевање квантног рачунарства."
   ]
  },
  {
   "cell_type": "code",
   "execution_count": null,
   "metadata": {},
   "outputs": [],
   "source": []
  }
 ],
 "metadata": {
  "kernelspec": {
   "display_name": "quiskit",
   "language": "python",
   "name": "python3"
  },
  "language_info": {
   "codemirror_mode": {
    "name": "ipython",
    "version": 3
   },
   "file_extension": ".py",
   "mimetype": "text/x-python",
   "name": "python",
   "nbconvert_exporter": "python",
   "pygments_lexer": "ipython3",
   "version": "3.7.11"
  }
 },
 "nbformat": 4,
 "nbformat_minor": 2
}
