{
 "cells": [
  {
   "cell_type": "markdown",
   "metadata": {},
   "source": [
    "* Поглабље 01\n",
    "* Лекција 3.1\n",
    "\n",
    "# Диракова Бра-Кет Нотација\n",
    "\n",
    "<br>\n",
    "\n",
    "* [Диракова нотација (Википедија)](https://sr.wikipedia.org/wiki/%D0%94%D0%B8%D1%80%D0%B0%D0%BA%D0%BE%D0%B2%D0%B0_%D0%BD%D0%BE%D1%82%D0%B0%D1%86%D0%B8%D1%98%D0%B0)\n",
    "* [Векторски простори и елементи векторске анализе, Иванка Милошевић, 1997 (ПДФ)](http://bmw.ff.bg.ac.rs/Katedre/QMF/pdf/i1-6.pdf)\n",
    "* [Linear algebra for quantum mechanics](https://furnstahl.github.io/7501-JB/notebooks/Reference/linear_algebra_for_QM.html)\n",
    "* [amcdawes/QMlabs](https://github.com/amcdawes/QMlabs)\n",
    "* [Welcome to Chemistry Lessons Using Jupyter Notebooks](https://mccullaghlab.github.io/intro.html)\n",
    "* [Solving 1-D Schrodinger Equation in Python](https://blog.gwlab.page/solving-1-d-schrodinger-equation-in-python-dcb3518ce454)"
   ]
  },
  {
   "cell_type": "markdown",
   "metadata": {},
   "source": [
    "Диракова Бра-Кет нотација је стандардни математички оквир који је први дефинисао енглески физичар Пол Дирак као краћи начин записивања квантних стања и њихових трансформација. "
   ]
  },
  {
   "cell_type": "markdown",
   "metadata": {},
   "source": [
    "На почетку, погледајмо кратак пример на основу кога лако можемо да видимо за шта је Диракова нотација корисна. Замислимо таласну функцију $\\psi$ која описује квантно стање једне честице. Средња вредност координате $\\vec{r}$ (очекивана вредност оператора положаја) те честице може бити записана у следећем облику:\n",
    "\n",
    "\\begin{equation}\n",
    "\\braket{\\hat{r}} = \\int_{-\\infin}^{\\infin} \\psi^{*} r \\psi dr\n",
    "\\end{equation}\n",
    "\n",
    "Чак и овако једноставан пример је компликован за записивање. Овде Диракова бра-кет нотација може бити корисна. Исти израз се може записати на једноставнији и елегантнији начин помоћу бра-кет нотације:\n",
    "\n",
    "\\begin{align*}\n",
    "\\braket{\\hat{r}} = \\bra{\\psi} r \\ket{\\psi}\n",
    "\\end{align*}\n"
   ]
  },
  {
   "cell_type": "markdown",
   "metadata": {},
   "source": [
    "Основни чиниоци бра-кет нотације су **кет** и **бра** оператори:\n",
    "\n",
    "* Оператор **кет** представља квантно стање $\\ket{\\psi}$. То је вектор колоне у комплексном векторском простору (Хилбертов простор).\n",
    "\n",
    "    \\begin{align*}\n",
    "    \\ket{\\psi} =\n",
    "    \\begin{bmatrix}\n",
    "    \\psi_1 \\\\\n",
    "    \\psi_2 \\\\\n",
    "    \\vdots \\\\\n",
    "    \\psi_n\n",
    "    \\end{bmatrix}\n",
    "    \\end{align*}\n",
    "    \n",
    "    где су $\\psi_1$, $\\psi_2$ ...$\\psi_n$ компоненте вектора колоне.\n",
    "\n",
    "* Оператор **бра** $\\bra{\\psi}$ је Ермитски коњугат (транспоновање и коњуговање комплексног броја) оператора **кет**:\n",
    "\n",
    "    \\begin{align*}\n",
    "    \\bra{\\psi} =\n",
    "    \\begin{bmatrix}\n",
    "    \\psi_1^* & \\psi_2^* & \\cdots & \\psi_n^*\n",
    "    \\end{bmatrix}\n",
    "    \\end{align*}\n",
    "\n",
    "    где су $\\psi_1$, $\\psi_2$ ...$\\psi_n$ компоненте вектора врсте."
   ]
  },
  {
   "cell_type": "markdown",
   "metadata": {},
   "source": [
    "Кратак пример у Пајтону"
   ]
  },
  {
   "cell_type": "code",
   "execution_count": 1,
   "metadata": {},
   "outputs": [],
   "source": [
    "import numpy as np"
   ]
  },
  {
   "cell_type": "code",
   "execution_count": 3,
   "metadata": {},
   "outputs": [
    {
     "name": "stdout",
     "output_type": "stream",
     "text": [
      "Кет |ψ⟩:\n",
      "\n",
      "[[1.+2.j]\n",
      " [3.+4.j]]\n"
     ]
    }
   ],
   "source": [
    "# Кет |ψ⟩\n",
    "кет_пси = np.array([[1 + 2j], [3 + 4j]])\n",
    "\n",
    "print(\"Кет |ψ⟩:\\n\")\n",
    "print(кет_пси)\n"
   ]
  },
  {
   "cell_type": "code",
   "execution_count": 4,
   "metadata": {},
   "outputs": [
    {
     "name": "stdout",
     "output_type": "stream",
     "text": [
      "Бра ⟨ψ|:\n",
      "\n",
      "[[1.-2.j 3.-4.j]]\n"
     ]
    }
   ],
   "source": [
    "# Бра ⟨ψ|\n",
    "бра_пси = кет_пси.conj().T  # коњуговање и транспоновање |ψ⟩\n",
    "\n",
    "print(\"Бра ⟨ψ|:\\n\")\n",
    "print(бра_пси)"
   ]
  },
  {
   "cell_type": "code",
   "execution_count": 5,
   "metadata": {},
   "outputs": [
    {
     "name": "stdout",
     "output_type": "stream",
     "text": [
      "Кет |ψ>:\n",
      "\n",
      "[[1.+2.j]\n",
      " [3.+4.j]]\n"
     ]
    }
   ],
   "source": [
    "# Кет |ψ⟩\n",
    "кет_пси2 = бра_пси.conj().T  # коњуговање и транспоновање ⟨ψ|\n",
    "\n",
    "print(\"Кет |ψ>:\\n\")\n",
    "print(кет_пси2)"
   ]
  },
  {
   "cell_type": "markdown",
   "metadata": {},
   "source": [
    "Из претходног примера се види да **бра** оператори настају коњуговањем и транспоновањем **кет** оператора и обрнуто. То су зове адјунговање. У квантној механици адјунговање се означава сумболом $\\dagger$.\n",
    "\n",
    "\\begin{align*}\n",
    "  \\bra{\\psi} &= \\ket{\\psi}^{\\dagger} \\\\\n",
    "  \\ket{\\psi} &= \\bra{\\psi}^{\\dagger}\n",
    "\\end{align*}"
   ]
  },
  {
   "cell_type": "code",
   "execution_count": null,
   "metadata": {},
   "outputs": [],
   "source": []
  }
 ],
 "metadata": {
  "kernelspec": {
   "display_name": "quiskit",
   "language": "python",
   "name": "python3"
  },
  "language_info": {
   "codemirror_mode": {
    "name": "ipython",
    "version": 3
   },
   "file_extension": ".py",
   "mimetype": "text/x-python",
   "name": "python",
   "nbconvert_exporter": "python",
   "pygments_lexer": "ipython3",
   "version": "3.7.11"
  }
 },
 "nbformat": 4,
 "nbformat_minor": 2
}
