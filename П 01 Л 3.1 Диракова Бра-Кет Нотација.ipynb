{
 "cells": [
  {
   "cell_type": "markdown",
   "metadata": {},
   "source": [
    "* Поглабље 01\n",
    "* Лекција 3.1\n",
    "\n",
    "# Диракова Бра-Кет Нотација\n",
    "\n",
    "<br>\n",
    "\n",
    "* [Linear algebra for quantum mechanics](https://furnstahl.github.io/7501-JB/notebooks/Reference/linear_algebra_for_QM.html)\n",
    "* [amcdawes/QMlabs](https://github.com/amcdawes/QMlabs)\n",
    "* [Welcome to Chemistry Lessons Using Jupyter Notebooks](https://mccullaghlab.github.io/intro.html)\n",
    "* [Solving 1-D Schrodinger Equation in Python](https://blog.gwlab.page/solving-1-d-schrodinger-equation-in-python-dcb3518ce454)"
   ]
  },
  {
   "cell_type": "markdown",
   "metadata": {},
   "source": []
  }
 ],
 "metadata": {
  "kernelspec": {
   "display_name": "quiskit",
   "language": "python",
   "name": "python3"
  },
  "language_info": {
   "name": "python",
   "version": "3.7.11"
  }
 },
 "nbformat": 4,
 "nbformat_minor": 2
}
